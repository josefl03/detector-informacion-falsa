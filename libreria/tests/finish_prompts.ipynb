{
 "cells": [
  {
   "cell_type": "code",
   "execution_count": 1,
   "id": "4100ad9d",
   "metadata": {},
   "outputs": [],
   "source": [
    "import sys\n",
    "sys.path.append('../fake-news-detector')"
   ]
  },
  {
   "cell_type": "code",
   "execution_count": null,
   "id": "6a5bda70",
   "metadata": {},
   "outputs": [],
   "source": [
    "from datatypes import *\n",
    "from pydantic import BaseModel\n",
    "\n",
    "def prettify(c: BaseModel):\n",
    "    schema = c.model_json_schema()\n",
    "    schema[\"additionalProperties\"] = False\n",
    "    \n",
    "    string = str(schema)\n",
    "    string = string.replace(\"'\", '\"').replace(\"False\", \"false\")\n",
    "    \n",
    "    print(string)"
   ]
  },
  {
   "cell_type": "code",
   "execution_count": 4,
   "id": "9d79440c",
   "metadata": {},
   "outputs": [
    {
     "name": "stdout",
     "output_type": "stream",
     "text": [
      "{\"properties\": {\"veredict\": {\"enum\": [\"verified\", \"unverified\", \"no_relation\"], \"title\": \"Veredict\", \"type\": \"string\"}}, \"required\": [\"veredict\"], \"title\": \"VeredictClassification\", \"type\": \"object\", \"additionalProperties\": false}\n"
     ]
    }
   ],
   "source": [
    "prettify(VeredictClassification)"
   ]
  },
  {
   "cell_type": "code",
   "execution_count": null,
   "id": "26a97b4a",
   "metadata": {},
   "outputs": [],
   "source": []
  }
 ],
 "metadata": {
  "kernelspec": {
   "display_name": ".venv",
   "language": "python",
   "name": "python3"
  },
  "language_info": {
   "codemirror_mode": {
    "name": "ipython",
    "version": 3
   },
   "file_extension": ".py",
   "mimetype": "text/x-python",
   "name": "python",
   "nbconvert_exporter": "python",
   "pygments_lexer": "ipython3",
   "version": "3.12.3"
  }
 },
 "nbformat": 4,
 "nbformat_minor": 5
}
