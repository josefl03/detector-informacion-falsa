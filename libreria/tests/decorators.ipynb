{
 "cells": [
  {
   "cell_type": "code",
   "execution_count": 4,
   "id": "b32453fe",
   "metadata": {},
   "outputs": [
    {
     "name": "stdout",
     "output_type": "stream",
     "text": [
      "Decorator: Before function call\n",
      "Args: (5, 3)\n",
      "Kwargs: {}\n",
      "Function: Adding 5 and 3\n",
      "Decorator: After function call\n",
      "Result: 8\n"
     ]
    }
   ],
   "source": [
    "def test_decorator(a):\n",
    "    def test_decorator2(func):\n",
    "        def wrapper(*args, **kwargs):\n",
    "            print(\"Decorator: Before function call\")\n",
    "            print(\"Args:\", args)\n",
    "            print(\"Kwargs:\", kwargs)\n",
    "            result = func(*args, **kwargs)\n",
    "            print(\"Decorator: After function call\")\n",
    "            return result\n",
    "        return wrapper\n",
    "    return test_decorator2\n",
    "\n",
    "@test_decorator(a=\"aaa\")\n",
    "def my_function(x, y):\n",
    "    print(f\"Function: Adding {x} and {y}\")\n",
    "    return x + y\n",
    "\n",
    "result = my_function(5, 3)\n",
    "print(f\"Result: {result}\")"
   ]
  },
  {
   "cell_type": "code",
   "execution_count": null,
   "id": "8f8cf0f3",
   "metadata": {},
   "outputs": [],
   "source": []
  }
 ],
 "metadata": {
  "kernelspec": {
   "display_name": ".venv",
   "language": "python",
   "name": "python3"
  },
  "language_info": {
   "codemirror_mode": {
    "name": "ipython",
    "version": 3
   },
   "file_extension": ".py",
   "mimetype": "text/x-python",
   "name": "python",
   "nbconvert_exporter": "python",
   "pygments_lexer": "ipython3",
   "version": "3.12.3"
  }
 },
 "nbformat": 4,
 "nbformat_minor": 5
}
