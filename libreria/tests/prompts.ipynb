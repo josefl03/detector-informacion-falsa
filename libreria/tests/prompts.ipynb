{
 "cells": [
  {
   "cell_type": "code",
   "execution_count": 1,
   "id": "c6abb430",
   "metadata": {},
   "outputs": [
    {
     "name": "stdout",
     "output_type": "stream",
     "text": [
      "Note: you may need to restart the kernel to use updated packages.\n"
     ]
    }
   ],
   "source": [
    "%pip install -q prettify"
   ]
  },
  {
   "cell_type": "markdown",
   "id": "3ad87e76",
   "metadata": {},
   "source": [
    "Get the base model"
   ]
  },
  {
   "cell_type": "code",
   "execution_count": 2,
   "id": "9918e434",
   "metadata": {},
   "outputs": [],
   "source": [
    "import sys\n",
    "sys.path.append(\"../../aplicacion/fake-news-detector\")"
   ]
  },
  {
   "cell_type": "code",
   "execution_count": 12,
   "id": "b6c6ee6c",
   "metadata": {},
   "outputs": [],
   "source": [
    "from pprint import pprint\n",
    "from pydantic import BaseModel\n",
    "import json\n",
    "import datatypes\n",
    "\n",
    "def prettify(c: BaseModel):\n",
    "    schema = c.model_json_schema()\n",
    "    schema[\"additionalProperties\"] = False\n",
    "    \n",
    "    string = str(schema)\n",
    "    string = string.replace(\"'\", '\"').replace(\"False\", \"false\")\n",
    "    \n",
    "    print(string)"
   ]
  },
  {
   "cell_type": "code",
   "execution_count": 4,
   "id": "1597d268",
   "metadata": {},
   "outputs": [
    {
     "name": "stdout",
     "output_type": "stream",
     "text": [
      "{\"properties\": {\"title\": {\"title\": \"Title\", \"type\": \"string\"}, \"date\": {\"format\": \"date-time\", \"title\": \"Date\", \"type\": \"string\"}, \"markdown\": {\"title\": \"Markdown\", \"type\": \"string\"}, \"author\": {\"anyOf\": [{\"type\": \"string\"}, {\"type\": \"null\"}], \"title\": \"Author\"}, \"sources\": {\"anyOf\": [{\"items\": {\"type\": \"string\"}, \"type\": \"array\"}, {\"type\": \"null\"}], \"title\": \"Sources\"}, \"image_urls\": {\"anyOf\": [{\"items\": {\"type\": \"string\"}, \"type\": \"array\"}, {\"type\": \"null\"}], \"title\": \"Image Urls\"}}, \"required\": [\"title\", \"date\", \"markdown\", \"author\", \"sources\", \"image_urls\"], \"title\": \"ConvertedArticle\", \"type\": \"object\", \"additionalProperties\": false}\n"
     ]
    }
   ],
   "source": [
    "prettify(datatypes.ConvertedArticle.model_json_schema())"
   ]
  },
  {
   "cell_type": "code",
   "execution_count": 5,
   "id": "917a1f4a",
   "metadata": {},
   "outputs": [
    {
     "data": {
      "text/markdown": [
       "# Una explosión provoca un incendio en una nave de productos químicos en la localidad sevillana de Alcalá de Guadaíra\n",
       "\n",
       "## El fuego, que ha causado heridas leves a dos personas, ya está controlado y no ha supuesto riesgo para la salud de la población\n",
       "\n",
       "Un incendio en una nave de productos químicos de la localidad sevillana de Alcalá de Guadaíra (77.000 habitantes) ha provocado una impresionante columna de humo visible desde la capital andaluza. Durante las primeras horas en las que el fuego se ha mantenido activo la Junta de Andalucía ha decidido enviar una alerta a los vecinos recomendándoles que permanecieran en sus viviendas por precaución para preservarse de un posible riesgo de intoxicación, cerraran las ventanas y que si tenían que salir, lo hicieran con mascarillas. En ningún momento, según ha señalado el consejero de la Presidencia, Antonio Sanz, ha habido riesgo para la población, si bien la explosión ha provocado dos heridos leves, un trabajador de la empresa y un bombero que ha inhalado humo.\n",
       "\n",
       "Una explosión en una nave en la que se manipulaban productos químicos para su distribución, alrededor de las 13.30 de este miércoles provocó el incendio que se dio por controlado a media tarde. Pasadas las cuatro de la tarde, se activaba la Es-Alert y el nivel 1 del Plan de Emergencias de la Junta, por precaución, con las recomendaciones para los vecinos. “El fuego está controlado y perimetrado y no hay riesgo de propagación”, ha explicado a este diario el jefe de Bomberos de la Provincia de Sevilla, Manuel Blanco, que, no obstante, ha reconocido que debido a los productos disolventes y sustancias corrosivas de la empresa se tardará en darlo por extinguido.\n",
       "\n",
       "Tanto el consejero de la Presidencia como la alcaldesa de la localidad, Ana Isabel Contreras, han destacado la colaboración entre ambas administraciones. “Nuestra preocupación era un depósito con un material y por eso se emitió la alerta a la ciudadanía, pero ya nos han dicho que ese riesgo no existe”, ha indicado la regidora. “Quiero dar un mensaje de tranquilidad y seguridad a la población, en ningún momento se han superado los parámetros que pudieran ser preocupantes para el medio ambiente”, ha abundado Sanz, que sí ha insistido en que las recomendaciones de mantenerse, en la medida de lo posible en las viviendas, como de llevar mascarillas, siguen vigentes, si bien tanto él como Contreras han recalcado que en ningún caso se ha dado ninguna orden de confinamiento a la población.\n",
       "\n",
       "Se desconocen todavía las causas de la explosión, aunque sí se ha confirmado que la deflagración ha provocado heridas leves a un trabajador que estaba envasando un tipo de disolvente en el momento de la deflagración. “Parece ser que hubo una chispa y salieron corriendo y desalojaron la nave, que tiene todos los sistemas de seguridad habilitados por trabajar con productos químicos”, ha indicado la alcaldesa. Además, otro bombero ha tenido que ser atendido por la inhalación de humo.\n",
       "\n",
       "La nave afectada pertenece a la empresa Planisur, que comercializa y distribuye productos químicos, y que se encuentra en el polígono Red de Alcalá de Guadaíra. Hasta allí se desplazaron varios cuerpos de bomberos de la provincia de Sevilla que desplegaron el plan de emergencia química, además del servicio de emergencias sanitarias del 061 y un vehículo de apoyo logístico.\n",
       "\n",
       "El portavoz de los Bomberos de la provincia de Sevilla, Manuel Blanco, que también es experto en riesgos químicos, ha indicado a este diario que la empresa afectada se dedica a manipular productos químicos para su envasado y distribución. “Son productos corrosivos e inflamables, sustancias que en principio no son peligrosas, pero que pueden convertirse en tóxicas como consecuencia de la combustión al contactar con el éter”, explicaba el profesional antes de que se diera por controlado el incendio y que enumera productos como el cloro, disolventes o acetona.\n",
       "\n",
       "Fuentes de la Consejería de Presidencia, de la que depende la EMA, precisan que la compañía no manipulaba productos químicos peligrosos, por lo que no estaba obligada a activar ningún plan de emergencia exterior.\n",
       "\n",
       "> Si estás en el entorno de Sevilla y ves una columna de humo, se trata de un incendio en una nave industrial en el P.I. la Red de #AlcaládeGuadaíra #Sevilla\n",
       "> ✅ Operativos interviniendo.\n",
       "> ✅ Si vives o trabajas por la zona cierra puertas y ventanas para evitar la entrada de humo. [pic.twitter.com/xr4tYe7PII](https://t.co/xr4tYe7PII)\n",
       "> \n",
       "> — EMA 112 (@E112Andalucia) [May 14, 2025](https://twitter.com/E112Andalucia/status/1922625819681096188?ref_src=twsrc%5Etfw)\n",
       "\n",
       "![Columna de humo del lugar donde se ha producido la explosión en Alcalá de Guadaíra, Sevilla, este miércoles.](https://imagenes.elpais.com/resizer/v2/C5VR65IPBVBO3AQPS7VSUTBDMU.jpg?auth=223764474fed0ec221d01b41c0809dc11d889638695680b59a466b1d0499bc1b&width=1200&height=675&smart=true)\n",
       "\n",
       "![La columna de humo vista desde Sevilla.](https://imagenes.elpais.com/resizer/v2/CNF7DY2L6BBPJN2IGCO5DFTT5I.jpg?auth=c00937fc12d0bd030ef1a4e6fa7d710fa2deefe78e6b50688227f88d44cb7343&width=414)\n",
       "\n"
      ],
      "text/plain": [
       "<IPython.core.display.Markdown object>"
      ]
     },
     "execution_count": 5,
     "metadata": {},
     "output_type": "execute_result"
    }
   ],
   "source": [
    "from IPython.display import Markdown\n",
    "\n",
    "md = \"# Una explosión provoca un incendio en una nave de productos químicos en la localidad sevillana de Alcalá de Guadaíra\\n\\n## El fuego, que ha causado heridas leves a dos personas, ya está controlado y no ha supuesto riesgo para la salud de la población\\n\\nUn incendio en una nave de productos químicos de la localidad sevillana de Alcalá de Guadaíra (77.000 habitantes) ha provocado una impresionante columna de humo visible desde la capital andaluza. Durante las primeras horas en las que el fuego se ha mantenido activo la Junta de Andalucía ha decidido enviar una alerta a los vecinos recomendándoles que permanecieran en sus viviendas por precaución para preservarse de un posible riesgo de intoxicación, cerraran las ventanas y que si tenían que salir, lo hicieran con mascarillas. En ningún momento, según ha señalado el consejero de la Presidencia, Antonio Sanz, ha habido riesgo para la población, si bien la explosión ha provocado dos heridos leves, un trabajador de la empresa y un bombero que ha inhalado humo.\\n\\nUna explosión en una nave en la que se manipulaban productos químicos para su distribución, alrededor de las 13.30 de este miércoles provocó el incendio que se dio por controlado a media tarde. Pasadas las cuatro de la tarde, se activaba la Es-Alert y el nivel 1 del Plan de Emergencias de la Junta, por precaución, con las recomendaciones para los vecinos. “El fuego está controlado y perimetrado y no hay riesgo de propagación”, ha explicado a este diario el jefe de Bomberos de la Provincia de Sevilla, Manuel Blanco, que, no obstante, ha reconocido que debido a los productos disolventes y sustancias corrosivas de la empresa se tardará en darlo por extinguido.\\n\\nTanto el consejero de la Presidencia como la alcaldesa de la localidad, Ana Isabel Contreras, han destacado la colaboración entre ambas administraciones. “Nuestra preocupación era un depósito con un material y por eso se emitió la alerta a la ciudadanía, pero ya nos han dicho que ese riesgo no existe”, ha indicado la regidora. “Quiero dar un mensaje de tranquilidad y seguridad a la población, en ningún momento se han superado los parámetros que pudieran ser preocupantes para el medio ambiente”, ha abundado Sanz, que sí ha insistido en que las recomendaciones de mantenerse, en la medida de lo posible en las viviendas, como de llevar mascarillas, siguen vigentes, si bien tanto él como Contreras han recalcado que en ningún caso se ha dado ninguna orden de confinamiento a la población.\\n\\nSe desconocen todavía las causas de la explosión, aunque sí se ha confirmado que la deflagración ha provocado heridas leves a un trabajador que estaba envasando un tipo de disolvente en el momento de la deflagración. “Parece ser que hubo una chispa y salieron corriendo y desalojaron la nave, que tiene todos los sistemas de seguridad habilitados por trabajar con productos químicos”, ha indicado la alcaldesa. Además, otro bombero ha tenido que ser atendido por la inhalación de humo.\\n\\nLa nave afectada pertenece a la empresa Planisur, que comercializa y distribuye productos químicos, y que se encuentra en el polígono Red de Alcalá de Guadaíra. Hasta allí se desplazaron varios cuerpos de bomberos de la provincia de Sevilla que desplegaron el plan de emergencia química, además del servicio de emergencias sanitarias del 061 y un vehículo de apoyo logístico.\\n\\nEl portavoz de los Bomberos de la provincia de Sevilla, Manuel Blanco, que también es experto en riesgos químicos, ha indicado a este diario que la empresa afectada se dedica a manipular productos químicos para su envasado y distribución. “Son productos corrosivos e inflamables, sustancias que en principio no son peligrosas, pero que pueden convertirse en tóxicas como consecuencia de la combustión al contactar con el éter”, explicaba el profesional antes de que se diera por controlado el incendio y que enumera productos como el cloro, disolventes o acetona.\\n\\nFuentes de la Consejería de Presidencia, de la que depende la EMA, precisan que la compañía no manipulaba productos químicos peligrosos, por lo que no estaba obligada a activar ningún plan de emergencia exterior.\\n\\n> Si estás en el entorno de Sevilla y ves una columna de humo, se trata de un incendio en una nave industrial en el P.I. la Red de #AlcaládeGuadaíra #Sevilla\\n> ✅ Operativos interviniendo.\\n> ✅ Si vives o trabajas por la zona cierra puertas y ventanas para evitar la entrada de humo. [pic.twitter.com/xr4tYe7PII](https://t.co/xr4tYe7PII)\\n> \\n> — EMA 112 (@E112Andalucia) [May 14, 2025](https://twitter.com/E112Andalucia/status/1922625819681096188?ref_src=twsrc%5Etfw)\\n\\n![Columna de humo del lugar donde se ha producido la explosión en Alcalá de Guadaíra, Sevilla, este miércoles.](https://imagenes.elpais.com/resizer/v2/C5VR65IPBVBO3AQPS7VSUTBDMU.jpg?auth=223764474fed0ec221d01b41c0809dc11d889638695680b59a466b1d0499bc1b&width=1200&height=675&smart=true)\\n\\n![La columna de humo vista desde Sevilla.](https://imagenes.elpais.com/resizer/v2/CNF7DY2L6BBPJN2IGCO5DFTT5I.jpg?auth=c00937fc12d0bd030ef1a4e6fa7d710fa2deefe78e6b50688227f88d44cb7343&width=414)\\n\\n\"\n",
    "Markdown(md)"
   ]
  },
  {
   "cell_type": "code",
   "execution_count": 6,
   "id": "4dd8a709",
   "metadata": {},
   "outputs": [
    {
     "data": {
      "text/plain": [
       "Prompt(system=\"I will give you a markdown and a PDF file. Your goal is to parse the contents of the article to the provided JSON format. Focus on the content inside the article, and discard anything else.\\nInclude any image present inside the article, as well as a brief description of it inside the alt text field.\\nDon't explain anything, only parse the article and it's contents. Use the same language as the article.\\nThe Markdown format must be the following:\\n# title\\n## subtitle\\n### section if any\\n**date**\\n\\narticle content\\n[Alt Text](URL)\\n![Image Alt Text](Image URL)\\n> cites or tweets\", user='<place your markdown here>')"
      ]
     },
     "execution_count": 6,
     "metadata": {},
     "output_type": "execute_result"
    }
   ],
   "source": [
    "import prompts\n",
    "prompts.PDF_HTML_TO_STRUCTURED"
   ]
  },
  {
   "cell_type": "code",
   "execution_count": 7,
   "id": "86ff1da5",
   "metadata": {},
   "outputs": [],
   "source": [
    "from enum import Flag, auto\n",
    "\n",
    "class Format(Flag):\n",
    "    HTML =auto()\n",
    "    PDF = auto()\n"
   ]
  },
  {
   "cell_type": "code",
   "execution_count": 8,
   "id": "185f4a03",
   "metadata": {},
   "outputs": [
    {
     "name": "stdout",
     "output_type": "stream",
     "text": [
      "Format.HTML|PDF\n"
     ]
    }
   ],
   "source": [
    "a = Format.HTML | Format.PDF\n",
    "b = Format.PDF\n",
    "print(a)"
   ]
  },
  {
   "cell_type": "code",
   "execution_count": 13,
   "id": "da31b56d",
   "metadata": {},
   "outputs": [
    {
     "name": "stdout",
     "output_type": "stream",
     "text": [
      "{\"properties\": {\"is_article\": {\"title\": \"Is Article\", \"type\": \"boolean\"}}, \"required\": [\"is_article\"], \"title\": \"ArticleClassification\", \"type\": \"object\", \"additionalProperties\": false}\n"
     ]
    }
   ],
   "source": [
    "prettify(datatypes.ArticleClassification)"
   ]
  },
  {
   "cell_type": "code",
   "execution_count": null,
   "id": "834e2f9d",
   "metadata": {},
   "outputs": [],
   "source": []
  }
 ],
 "metadata": {
  "kernelspec": {
   "display_name": ".venv",
   "language": "python",
   "name": "python3"
  },
  "language_info": {
   "codemirror_mode": {
    "name": "ipython",
    "version": 3
   },
   "file_extension": ".py",
   "mimetype": "text/x-python",
   "name": "python",
   "nbconvert_exporter": "python",
   "pygments_lexer": "ipython3",
   "version": "3.12.3"
  }
 },
 "nbformat": 4,
 "nbformat_minor": 5
}
