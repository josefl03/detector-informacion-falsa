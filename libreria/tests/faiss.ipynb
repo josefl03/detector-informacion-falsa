{
 "cells": [
  {
   "cell_type": "code",
   "execution_count": null,
   "id": "528fe5ee",
   "metadata": {},
   "outputs": [],
   "source": [
    "%pip install -q numpy sentence_transformers faiss-cpu"
   ]
  },
  {
   "cell_type": "code",
   "execution_count": 4,
   "id": "2729103a",
   "metadata": {},
   "outputs": [
    {
     "name": "stderr",
     "output_type": "stream",
     "text": [
      "/home/jose/TFG/Aplicacion/.venv/lib/python3.12/site-packages/tqdm/auto.py:21: TqdmWarning: IProgress not found. Please update jupyter and ipywidgets. See https://ipywidgets.readthedocs.io/en/stable/user_install.html\n",
      "  from .autonotebook import tqdm as notebook_tqdm\n",
      "Xet Storage is enabled for this repo, but the 'hf_xet' package is not installed. Falling back to regular HTTP download. For better performance, install the package with: `pip install huggingface_hub[hf_xet]` or `pip install hf_xet`\n"
     ]
    },
    {
     "name": "stdout",
     "output_type": "stream",
     "text": [
      "Top matches:\n",
      "How to use FAISS\n",
      "Python tips\n"
     ]
    }
   ],
   "source": [
    "from sentence_transformers import SentenceTransformer\n",
    "import faiss\n",
    "import numpy as np\n",
    "\n",
    "# Step 1: Create embeddings\n",
    "docs = [\"How to use FAISS\", \"Benefits of OpenAI\", \"Python tips\"]\n",
    "model = SentenceTransformer(\"all-MiniLM-L6-v2\")\n",
    "doc_embeddings = model.encode(docs)\n",
    "\n",
    "# Step 2: Build a FAISS index\n",
    "dimension = doc_embeddings.shape[1]\n",
    "index = faiss.IndexFlatL2(dimension)  # L2 = Euclidean distance\n",
    "index.add(np.array(doc_embeddings))\n",
    "\n",
    "# Step 3: Query it\n",
    "query = \"Tell me about FAISS\"\n",
    "query_vec = model.encode([query])\n",
    "D, I = index.search(np.array(query_vec), k=2)\n",
    "\n",
    "# Show results\n",
    "print(\"Top matches:\")\n",
    "for i in I[0]:\n",
    "    print(docs[i])\n"
   ]
  },
  {
   "cell_type": "code",
   "execution_count": 1,
   "id": "46cbceff",
   "metadata": {},
   "outputs": [
    {
     "name": "stdout",
     "output_type": "stream",
     "text": [
      "Matched string ID: item1\n"
     ]
    }
   ],
   "source": [
    "import faiss\n",
    "import numpy as np\n",
    "\n",
    "# Create index\n",
    "d = 128  # vector dimension\n",
    "index = faiss.IndexFlatL2(d)\n",
    "index_with_ids = faiss.IndexIDMap(index)\n",
    "\n",
    "# Prepare data\n",
    "vectors = np.random.random((3, d)).astype('float32')\n",
    "str_ids = ['item1', 'item2', 'item3']\n",
    "int_ids = np.arange(len(str_ids))  # [0, 1, 2]\n",
    "\n",
    "# Add vectors with int IDs\n",
    "index_with_ids.add_with_ids(vectors, int_ids)\n",
    "\n",
    "# Create mapping: int ID <-> string ID\n",
    "id_to_str = dict(zip(int_ids, str_ids))\n",
    "str_to_id = dict(zip(str_ids, int_ids))\n",
    "\n",
    "# Search\n",
    "D, I = index_with_ids.search(vectors[:1], k=10)\n",
    "print(\"Matched string ID:\", id_to_str[I[0][0]])\n"
   ]
  },
  {
   "cell_type": "code",
   "execution_count": 2,
   "id": "34fa7c76",
   "metadata": {},
   "outputs": [
    {
     "data": {
      "text/plain": [
       "array([[0.0000000e+00, 1.8284241e+01, 1.9609955e+01, 3.4028235e+38,\n",
       "        3.4028235e+38, 3.4028235e+38, 3.4028235e+38, 3.4028235e+38,\n",
       "        3.4028235e+38, 3.4028235e+38]], dtype=float32)"
      ]
     },
     "execution_count": 2,
     "metadata": {},
     "output_type": "execute_result"
    }
   ],
   "source": [
    "D"
   ]
  },
  {
   "cell_type": "code",
   "execution_count": 3,
   "id": "203fa329",
   "metadata": {},
   "outputs": [
    {
     "data": {
      "text/plain": [
       "array([[ 0,  2,  1, -1, -1, -1, -1, -1, -1, -1]])"
      ]
     },
     "execution_count": 3,
     "metadata": {},
     "output_type": "execute_result"
    }
   ],
   "source": [
    "I"
   ]
  },
  {
   "cell_type": "code",
   "execution_count": null,
   "id": "aa0429fe",
   "metadata": {},
   "outputs": [],
   "source": []
  }
 ],
 "metadata": {
  "kernelspec": {
   "display_name": ".venv",
   "language": "python",
   "name": "python3"
  },
  "language_info": {
   "codemirror_mode": {
    "name": "ipython",
    "version": 3
   },
   "file_extension": ".py",
   "mimetype": "text/x-python",
   "name": "python",
   "nbconvert_exporter": "python",
   "pygments_lexer": "ipython3",
   "version": "3.12.3"
  }
 },
 "nbformat": 4,
 "nbformat_minor": 5
}
