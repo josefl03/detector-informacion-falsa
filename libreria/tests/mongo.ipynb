{
 "cells": [
  {
   "cell_type": "code",
   "execution_count": 1,
   "id": "5275dd80",
   "metadata": {},
   "outputs": [
    {
     "name": "stdout",
     "output_type": "stream",
     "text": [
      "✅ MongoDB is running.\n"
     ]
    },
    {
     "data": {
      "text/plain": [
       "True"
      ]
     },
     "execution_count": 1,
     "metadata": {},
     "output_type": "execute_result"
    }
   ],
   "source": [
    "from pymongo import MongoClient\n",
    "from pymongo.errors import ConnectionFailure\n",
    "\n",
    "def is_mongo_running(uri=\"mongodb://localhost:27017/\"):\n",
    "    try:\n",
    "        client = MongoClient(uri, serverSelectionTimeoutMS=2000)\n",
    "        # The following call forces a connection attempt\n",
    "        client.admin.command(\"ping\")\n",
    "        print(\"✅ MongoDB is running.\")\n",
    "        return True\n",
    "    except ConnectionFailure:\n",
    "        print(\"❌ MongoDB is not running or cannot be reached.\")\n",
    "        return False\n",
    "\n",
    "# Example usage\n",
    "is_mongo_running()\n"
   ]
  },
  {
   "cell_type": "code",
   "execution_count": null,
   "id": "8a3963bc",
   "metadata": {},
   "outputs": [],
   "source": []
  }
 ],
 "metadata": {
  "kernelspec": {
   "display_name": ".venv",
   "language": "python",
   "name": "python3"
  },
  "language_info": {
   "codemirror_mode": {
    "name": "ipython",
    "version": 3
   },
   "file_extension": ".py",
   "mimetype": "text/x-python",
   "name": "python",
   "nbconvert_exporter": "python",
   "pygments_lexer": "ipython3",
   "version": "3.12.3"
  }
 },
 "nbformat": 4,
 "nbformat_minor": 5
}
