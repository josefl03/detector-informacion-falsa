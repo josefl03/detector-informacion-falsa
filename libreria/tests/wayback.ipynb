{
 "cells": [
  {
   "cell_type": "markdown",
   "id": "28e0c30b",
   "metadata": {},
   "source": [
    "waybackpy"
   ]
  },
  {
   "cell_type": "code",
   "execution_count": 35,
   "id": "50338256",
   "metadata": {},
   "outputs": [],
   "source": [
    "from waybackpy import WaybackMachineCDXServerAPI\n",
    "url = \"https://google.com\"\n",
    "user_agent = \"Mozilla/5.0 (Windows NT 10.0; Win64; x64) AppleWebKit/537.36 (KHTML, like Gecko) Chrome/58.0.3029.110 Safari/537.3\"\n",
    "cdx_api = WaybackMachineCDXServerAPI(url, user_agent)\n",
    "\n",
    "oldest = cdx_api.oldest()"
   ]
  },
  {
   "cell_type": "code",
   "execution_count": 36,
   "id": "a414e64b",
   "metadata": {},
   "outputs": [
    {
     "data": {
      "text/plain": [
       "'https://web.archive.org/web/19981111184551/http://google.com:80/'"
      ]
     },
     "execution_count": 36,
     "metadata": {},
     "output_type": "execute_result"
    }
   ],
   "source": [
    "oldest.archive_url"
   ]
  },
  {
   "cell_type": "code",
   "execution_count": 39,
   "id": "bc631bab",
   "metadata": {},
   "outputs": [
    {
     "data": {
      "text/plain": [
       "'1998-11-11 18:45:51'"
      ]
     },
     "execution_count": 39,
     "metadata": {},
     "output_type": "execute_result"
    }
   ],
   "source": [
    "oldest.datetime_timestamp.strftime(\"%Y-%m-%d %H:%M:%S\")"
   ]
  },
  {
   "cell_type": "code",
   "execution_count": 11,
   "id": "59eaf372",
   "metadata": {},
   "outputs": [
    {
     "name": "stdout",
     "output_type": "stream",
     "text": [
      "https://web.archive.org/web/19981111184551/http://google.com:80/\n",
      "19981111184551\n"
     ]
    },
    {
     "data": {
      "text/plain": [
       "'1998-11-11 18:45:51'"
      ]
     },
     "execution_count": 11,
     "metadata": {},
     "output_type": "execute_result"
    }
   ],
   "source": [
    "print(oldest.archive_url)\n",
    "print(oldest.timestamp)\n",
    "\n",
    "from datetime import datetime\n",
    "dt_object = datetime.strptime(oldest.timestamp, \"%Y%m%d%H%M%S\")\n",
    "readable_date = dt_object.strftime(\"%Y-%m-%d %H:%M:%S\")\n",
    "readable_date\n"
   ]
  },
  {
   "cell_type": "code",
   "execution_count": null,
   "id": "ca3d71ce",
   "metadata": {},
   "outputs": [],
   "source": [
    "snaps = cdx_api.snapshots()\n",
    "for snap in snaps:\n",
    "    print(snap.archive_url)\n",
    "    \n",
    "# 4mins"
   ]
  },
  {
   "cell_type": "markdown",
   "id": "0be7d242",
   "metadata": {},
   "source": [
    "internet archive"
   ]
  },
  {
   "cell_type": "code",
   "execution_count": 24,
   "id": "ec42b2cc",
   "metadata": {},
   "outputs": [],
   "source": [
    "import internetarchive\n",
    "item = internetarchive.get_item(\"http://foxnews.es/judd-nelson-found-dead-los-angeles-condo.html\")"
   ]
  },
  {
   "cell_type": "code",
   "execution_count": 25,
   "id": "f71d31c5",
   "metadata": {},
   "outputs": [
    {
     "data": {
      "text/plain": [
       "True"
      ]
     },
     "execution_count": 25,
     "metadata": {},
     "output_type": "execute_result"
    }
   ],
   "source": [
    "item.exists"
   ]
  },
  {
   "cell_type": "code",
   "execution_count": null,
   "id": "9deae719",
   "metadata": {},
   "outputs": [
    {
     "data": {
      "text/plain": [
       "[]"
      ]
     },
     "execution_count": 33,
     "metadata": {},
     "output_type": "execute_result"
    }
   ],
   "source": [
    "item."
   ]
  },
  {
   "cell_type": "code",
   "execution_count": null,
   "id": "ea4e89e2",
   "metadata": {},
   "outputs": [],
   "source": [
    "\n",
    "\n",
    "res = internetarchive.search_items('waybackmachine')\n",
    "print(res)"
   ]
  },
  {
   "cell_type": "code",
   "execution_count": null,
   "id": "064d5439",
   "metadata": {},
   "outputs": [],
   "source": []
  }
 ],
 "metadata": {
  "kernelspec": {
   "display_name": ".venv",
   "language": "python",
   "name": "python3"
  },
  "language_info": {
   "codemirror_mode": {
    "name": "ipython",
    "version": 3
   },
   "file_extension": ".py",
   "mimetype": "text/x-python",
   "name": "python",
   "nbconvert_exporter": "python",
   "pygments_lexer": "ipython3",
   "version": "3.12.3"
  }
 },
 "nbformat": 4,
 "nbformat_minor": 5
}
