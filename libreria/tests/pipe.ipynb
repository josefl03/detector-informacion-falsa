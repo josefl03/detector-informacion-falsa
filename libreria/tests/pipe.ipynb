{
 "cells": [
  {
   "cell_type": "code",
   "execution_count": null,
   "id": "8e76cb72",
   "metadata": {},
   "outputs": [],
   "source": [
    "class Pipe:\n",
    "    name = \"-\"\n",
    "    \n",
    "def func1(pipe):\n",
    "    pipe.name = \"pipe1\"\n",
    "    \n",
    "def func2(pipe):\n",
    "    pipe.name = \"pipe2\"\n",
    "    \n",
    "pipe = Pipe()\n",
    "func1(pipe)\n",
    "func2(pipe)\n",
    "print(pipe.name)  # Output: pipe2"
   ]
  }
 ],
 "metadata": {
  "language_info": {
   "name": "python"
  }
 },
 "nbformat": 4,
 "nbformat_minor": 5
}
